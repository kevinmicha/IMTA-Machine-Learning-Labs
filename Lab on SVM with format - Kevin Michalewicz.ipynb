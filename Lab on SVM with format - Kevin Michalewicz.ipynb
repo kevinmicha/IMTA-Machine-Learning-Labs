{
 "cells": [
  {
   "cell_type": "markdown",
   "id": "1adb96c1",
   "metadata": {},
   "source": [
    "2021-10-20\n",
    "\n",
    "* Supervisor: Dominique PASTOR\n",
    "* Student: Kevin MICHALEWICZ\n",
    "\n",
    "<h1><center> Practical on SVMs </h1></center>\n",
    "<center> by Paul AIME, paul.aime@imt-atlantique.fr </center>\n",
    "\n",
    "In this practical we will first scrutinize an elementary example of SVM and then see some SVM applications under Python. The packages used are `scikit-learn` (and its subpackages `svm` et `datasets`), `numpy`, `pandas` and `matplotlib`."
   ]
  },
  {
   "cell_type": "markdown",
   "id": "cce68c7f",
   "metadata": {},
   "source": [
    "**Table of contents**\n",
    "\n",
    "* [1. An elementary SVM](#1.-An-elementary-SVM)\n",
    "* [2. Iris](#2.-Iris)\n",
    "* [3. Chronic Kidney Disease](#3.-Chronic-Kidney-Disease)\n",
    "    + [3.1 Data preparation](#3.1-Data-preparation)\n",
    "    + [3.2 Data preparation for cross validation](#3.2-Data-preparation-for-cross-validation)\n",
    "    + [3.3 Cross-validation and results](#3.3-Cross-validation-and-results)\n",
    "* [4. SPAM](#4.-SPAM)"
   ]
  },
  {
   "cell_type": "code",
   "execution_count": 1,
   "id": "8914cab7",
   "metadata": {},
   "outputs": [
    {
     "name": "stdout",
     "output_type": "stream",
     "text": [
      "3.9.7\n"
     ]
    }
   ],
   "source": [
    "from platform import python_version\n",
    "\n",
    "print(python_version())"
   ]
  },
  {
   "cell_type": "markdown",
   "id": "39849083",
   "metadata": {},
   "source": [
    "## 1. An elementary SVM\n",
    "\n",
    "In the Euclidean plane $R^2$ take individuals $(1, 1), (1, 5), (5, 1)$ and $(5, 5)$, assigned to classes $−1$, $1$, $1$, $1$\n",
    "\n",
    "Manually calculate the vector $(a, b)$ and the value of $c$ of the maximal margin classifier straight line."
   ]
  },
  {
   "cell_type": "code",
   "execution_count": 2,
   "id": "56f3ac56",
   "metadata": {},
   "outputs": [],
   "source": [
    "import numpy as np\n",
    "import matplotlib.pyplot as plt\n",
    "import matplotlib as mpl\n",
    "from sklearn import svm\n",
    "\n",
    "mpl.style.use(\"ggplot\")"
   ]
  },
  {
   "cell_type": "code",
   "execution_count": 3,
   "id": "f3e3718b",
   "metadata": {},
   "outputs": [],
   "source": [
    "X = np.array([[1, 1], [1, 5], [5, 1], [5, 5]])\n",
    "y = np.array([-1, 1, 1, 1])"
   ]
  },
  {
   "cell_type": "markdown",
   "id": "b5424244",
   "metadata": {},
   "source": [
    "👁 [`sklearn.svm.SVC`](https://scikit-learn.org/stable/modules/generated/sklearn.svm.SVC.html)"
   ]
  },
  {
   "cell_type": "code",
   "execution_count": 4,
   "id": "d688498f",
   "metadata": {},
   "outputs": [
    {
     "data": {
      "text/plain": [
       "<matplotlib.legend.Legend at 0x7fc8f2fd7be0>"
      ]
     },
     "execution_count": 4,
     "metadata": {},
     "output_type": "execute_result"
    },
    {
     "data": {
      "image/png": "[encoded data removed]",
      "text/plain": [
       "<Figure size 432x288 with 1 Axes>"
      ]
     },
     "metadata": {},
     "output_type": "display_data"
    }
   ],
   "source": [
    "clf = svm.SVC(kernel=\"linear\")\n",
    "clf.fit(X, y)\n",
    "\n",
    "w = clf.coef_[0]\n",
    "a = -w[0] / w[1]\n",
    "\n",
    "xx = np.linspace(0, 6)\n",
    "yy = a * xx - clf.intercept_[0] / w[1]\n",
    "\n",
    "fig, ax = plt.subplots()\n",
    "ax.plot(xx, yy, \"k-\", label=\"non weighted div\")\n",
    "ax.scatter(X[:, 0], X[:, 1], c=y)\n",
    "ax.legend()"
   ]
  },
  {
   "cell_type": "markdown",
   "id": "3d61b9bc",
   "metadata": {},
   "source": [
    "What is the meaning of the obtained results :"
   ]
  },
  {
   "cell_type": "code",
   "execution_count": 5,
   "id": "ba91fe8c",
   "metadata": {
    "scrolled": true
   },
   "outputs": [
    {
     "name": "stdout",
     "output_type": "stream",
     "text": [
      "clf.support_vectors_ = \n",
      "[[1. 1.]\n",
      " [1. 5.]\n",
      " [5. 1.]]\n",
      "clf.n_support_ = [1 2]\n",
      "             w = [0.49975586 0.49975586]\n"
     ]
    }
   ],
   "source": [
    "print(\"clf.support_vectors_ = \")\n",
    "print(clf.support_vectors_)\n",
    "print(f\"{clf.n_support_ = !s}\")\n",
    "print(f\"{             w = !s}\")"
   ]
  },
  {
   "cell_type": "markdown",
   "id": "c2585906",
   "metadata": {},
   "source": [
    "**Comments on the results:** the three rows on the *clf.support_vectors_* matrix refer to each of the support vectors. The vector *clf.n_support_* specifies how many support vectors each class possess. Finally, $w$ corresponds to the vector $(a,b)$ that will be introduced in the next code cell. "
   ]
  },
  {
   "cell_type": "markdown",
   "id": "91d9bd5d",
   "metadata": {},
   "source": [
    "The dividing line $D$ can be obtained by satisfying the following conditions:\n",
    "\n",
    "$\\begin{cases}\n",
    "    \\lVert (a,b) \\rVert \\text{ must be minimal}\\\\\n",
    "    f(z_i)\\big(\\langle\\,(a,b), z_i\\rangle + c\\big) \\geq 1, \\forall i\n",
    "    \\end{cases}$\n",
    "\n",
    "We choose three support vectors:\n",
    "\n",
    "- $z_1=(1,1)$ - Class $-1$\n",
    "\n",
    "- $z_2=(1,5)$ - Class $+1$\n",
    "\n",
    "- $z_3=(5,1)$ - Class $+1$\n",
    "\n",
    "and we notice that the distance to the dividing line is $\\sqrt2$ in every case. We would like that\n",
    "\n",
    "$\\langle\\,(a,b), z_1\\rangle + c = -1$\n",
    "\n",
    "$\\langle\\,(a,b), z_2\\rangle + c = 1$\n",
    "\n",
    "$\\langle\\,(a,b), z_3\\rangle + c = 1$\n",
    " \n",
    "The system is solved below."
   ]
  },
  {
   "cell_type": "code",
   "execution_count": 6,
   "id": "0b1009e5",
   "metadata": {},
   "outputs": [
    {
     "name": "stdout",
     "output_type": "stream",
     "text": [
      "(a,b) = (0.5,0.5) and c = -2.0\n"
     ]
    }
   ],
   "source": [
    "svecs = np.array([[1, 1, 1], [1, 5, 1], [5, 1, 1]])\n",
    "labels = np.array([-1, 1, 1])\n",
    "\n",
    "params = np.linalg.inv(svecs).dot(labels)\n",
    "print(\"(a,b) = ({},{}) and c = {}\".format(params[0].round(3), params[1].round(3), params[2].round(3)))"
   ]
  },
  {
   "cell_type": "markdown",
   "id": "bc88a922",
   "metadata": {},
   "source": [
    "## 2. Iris\n",
    "\n",
    "We will start with the famous data set “Iris” : the size in centimeters of petals and other parts of some\n",
    "flowers. For every individual we have four number and the class, among *Iris setosa*, *Iris versicolor* and *Iris\n",
    "virginica*. We have 150 individuals and equidistributed classes."
   ]
  },
  {
   "cell_type": "code",
   "execution_count": 7,
   "id": "a439eaae",
   "metadata": {},
   "outputs": [],
   "source": [
    "from sklearn import svm\n",
    "from sklearn import datasets\n",
    "from sklearn.model_selection import train_test_split\n",
    "import random"
   ]
  },
  {
   "cell_type": "code",
   "execution_count": 8,
   "id": "ec42f8e2",
   "metadata": {},
   "outputs": [],
   "source": [
    "# Load data\n",
    "iris = datasets.load_iris()\n",
    "\n",
    "# Extract arrays\n",
    "X, y = iris.data, iris.target\n",
    "\n",
    "# Extract some useful information\n",
    "num_classes = len(iris.target_names)\n",
    "classes_labels = sorted(set(iris.target))\n",
    "\n",
    "# Initialize classfier\n",
    "clf = svm.SVC()"
   ]
  },
  {
   "cell_type": "markdown",
   "id": "86396e71",
   "metadata": {},
   "source": [
    "Cut of the iris data to create a training set `X_train`, `y_train` with 100 random individuals and a test set `X_test`, `y_test` with what remains.\n"
   ]
  },
  {
   "cell_type": "markdown",
   "id": "e3eaebf1",
   "metadata": {},
   "source": [
    "👁 [`sklearn.model_selection.train_test_split`](https://scikit-learn.org/stable/modules/generated/sklearn.model_selection.train_test_split.html)"
   ]
  },
  {
   "cell_type": "code",
   "execution_count": 9,
   "id": "b91134ca",
   "metadata": {
    "hideCode": false,
    "hidePrompt": false
   },
   "outputs": [],
   "source": [
    "train_size = 100\n",
    "sample_position = [i for i in range(150)]\n",
    "random.shuffle(sample_position)\n",
    "\n",
    "train_X = X[sample_position[:train_size]]\n",
    "train_y = y[sample_position[:train_size]]\n",
    "test_X = X[sample_position[train_size:]]\n",
    "test_y = y[sample_position[train_size:]]"
   ]
  },
  {
   "cell_type": "markdown",
   "id": "c8e85c6b",
   "metadata": {},
   "source": [
    "Calculate the precision and recall for each class."
   ]
  },
  {
   "cell_type": "code",
   "execution_count": 10,
   "id": "9adf743d",
   "metadata": {},
   "outputs": [],
   "source": [
    "clf.fit(train_X, train_y)\n",
    "y_pred = clf.predict(test_X)"
   ]
  },
  {
   "cell_type": "code",
   "execution_count": 11,
   "id": "faad65a9",
   "metadata": {},
   "outputs": [
    {
     "name": "stdout",
     "output_type": "stream",
     "text": [
      "precisions = [1.0, 0.9375, 0.875]\n",
      "   recalls = [1.0, 0.8823529411764706, 0.9333333333333333]\n"
     ]
    }
   ],
   "source": [
    "def precision_recall_multilabels(y_true, y_pred, labels):\n",
    "    recalls = []\n",
    "    precisions = []\n",
    "    for cl in range(len(labels)):\n",
    "        precisions.append(sum([y_pred[i]==cl for i in range(y_true.shape[0]) if y_true[i]==cl])/sum([y_pred[i]==cl for i in range(y_true.shape[0])]))\n",
    "        recalls.append(sum([y_pred[i]==cl for i in range(y_true.shape[0]) if y_true[i]==cl])/sum([y_true[i]==cl for i in range(y_true.shape[0])]))\n",
    "    return precisions, recalls\n",
    "\n",
    "\n",
    "precisions, recalls = precision_recall_multilabels(test_y, y_pred, classes_labels)\n",
    "\n",
    "print(f\"{precisions = }\")\n",
    "print(f\"{   recalls = }\")"
   ]
  },
  {
   "cell_type": "markdown",
   "id": "a6a0dfe5",
   "metadata": {},
   "source": [
    "Check result against `sklearn.metrics.classification_report`"
   ]
  },
  {
   "cell_type": "code",
   "execution_count": 12,
   "id": "ce64011c",
   "metadata": {},
   "outputs": [
    {
     "name": "stdout",
     "output_type": "stream",
     "text": [
      "              precision    recall  f1-score   support\n",
      "\n",
      "           0     1.0000    1.0000    1.0000        18\n",
      "           1     0.9375    0.8824    0.9091        17\n",
      "           2     0.8750    0.9333    0.9032        15\n",
      "\n",
      "    accuracy                         0.9400        50\n",
      "   macro avg     0.9375    0.9386    0.9374        50\n",
      "weighted avg     0.9413    0.9400    0.9401        50\n",
      "\n"
     ]
    }
   ],
   "source": [
    "from sklearn.metrics import classification_report\n",
    "\n",
    "print(classification_report(test_y, y_pred, digits=4))"
   ]
  },
  {
   "cell_type": "markdown",
   "id": "f27e1be3",
   "metadata": {},
   "source": [
    "By using the class `KFold` from the package `sklearn.cross_validation`, write the code for a 10-crossed validation\n",
    "and obtain average precision and recall for each class.\n",
    "\n",
    "Use various kernel types and parameter values to see how the performances vary.\n",
    "\n",
    "You have the choice between four kernels (option `kernel` of SVC) :\n",
    "\n",
    "1. linear: `linear` $k(x, x') = \\langle x, x' \\rangle$ ;\n",
    "2. polynomial: `poly` $k(x, x') = (\\gamma \\cdot \\langle x, x' \\rangle + r)^d$ ;\n",
    "3. radial: `rbf` $k(x, x') = e^{-\\gamma \\lVert x - x' \\rVert}$ (default) ;\n",
    "4. sigmoid: `sigmoid` $k(x, x') = \\mathrm{tanh}(\\gamma \\cdot \\langle x, x' \\rangle)$.\n",
    "\n",
    "Parameters $\\gamma$, $d$ and $r$ are written `gamma`, `degree` and `coef0`, resp. The cost parameter $C$ (see in the\n",
    "class) is written `cost`."
   ]
  },
  {
   "cell_type": "markdown",
   "id": "469ee67a",
   "metadata": {},
   "source": [
    "👁 [`sklearn.model_selection.KFold`](https://scikit-learn.org/stable/modules/generated/sklearn.model_selection.KFold.html)"
   ]
  },
  {
   "cell_type": "code",
   "execution_count": 13,
   "id": "3ed2cc0f",
   "metadata": {},
   "outputs": [],
   "source": [
    "from sklearn.model_selection import KFold"
   ]
  },
  {
   "cell_type": "code",
   "execution_count": 14,
   "id": "ad2307c5",
   "metadata": {
    "scrolled": true
   },
   "outputs": [],
   "source": [
    "# Once you have filled the `clfs_results` dictionnary below\n",
    "# call `kfold_multimodels_report(clfs_results)`\n",
    "\n",
    "\n",
    "def kfold_multimodels_report(clfs_results: dict[str, dict[str, list[list[float]]]]):\n",
    "    \"\"\"\n",
    "    Prints a report for the results of experiments on multiple models,\n",
    "    each one evaluated using k-fold cross-validation.\n",
    "\n",
    "    The results of the experiments should be given as the 'clfs_stats'\n",
    "    argument, with the following structure:\n",
    "\n",
    "    {\n",
    "        \"clf_name1\": {\"metric1\": list[list], \"metric2\": list[list], ...},\n",
    "        \"clf_name2\": {\"metric1\": list[list], \"metric2\": list[list], ...},\n",
    "        ...\n",
    "    }\n",
    "\n",
    "    with each list[list] being of shape (num_folds, num_classes).\n",
    "    \"\"\"\n",
    "    clfs_stats = kfold_summarize_results(clfs_results)\n",
    "    with np.printoptions(precision=2, floatmode=\"fixed\"):\n",
    "        for clf_name, clf_stats in clfs_stats.items():\n",
    "            print(f\"{clf_name:<15}\")\n",
    "            for metric_name, stats in clf_stats.items():\n",
    "                print(f\"{metric_name:>15}\")\n",
    "                for stat_name, data in stats.items():\n",
    "                    print(f\"{stat_name:>20}: {data}\")\n",
    "\n",
    "\n",
    "def kfold_summarize_results(clfs_results):\n",
    "    \"\"\"Computes stats on results of multi-models k-folds experiments.\n",
    "\n",
    "    Takes:\n",
    "\n",
    "    {\n",
    "        \"clf_name1\": {\"metric1\": list[list], \"metric2\": list[list], ...},\n",
    "        \"clf_name2\": {\"metric1\": list[list], \"metric2\": list[list], ...},\n",
    "        ...\n",
    "    }\n",
    "\n",
    "    Returns:\n",
    "\n",
    "    {\n",
    "        \"clf_name1\": {\"metric1\": {\"mean\": value, \"std\": value ...}, ...},\n",
    "        ...\n",
    "    }\n",
    "    \"\"\"\n",
    "    clfs_stats = {clf_name: {} for clf_name in clfs_results}\n",
    "    for clf_name, clf_results in clfs_results.items():\n",
    "        for metric, data in clf_results.items():\n",
    "            clfs_stats[clf_name][metric] = {\n",
    "                \"mean\": np.mean(data, axis=0),\n",
    "                \"std\": np.std(data, axis=0),\n",
    "            }\n",
    "    return clfs_stats"
   ]
  },
  {
   "cell_type": "code",
   "execution_count": 15,
   "id": "f3109ddc",
   "metadata": {},
   "outputs": [],
   "source": [
    "def kfold_precisions_recalls(X, y, labels, clf, kf: KFold):\n",
    "    \"\"\"Returns the history of precisions and recalls through K-fold training\n",
    "\n",
    "    Parameters\n",
    "    ----------\n",
    "    X, y : data\n",
    "    labels : list[int]\n",
    "    clf : classifier\n",
    "    kf : KFold instance\n",
    "\n",
    "    Returns\n",
    "    -------\n",
    "    precisions : list[list], shape (num_folds, len(labels))\n",
    "    recalls : list[list], shape (num_folds, len(labels))\n",
    "    \"\"\"\n",
    "    precisions, recalls = [], []\n",
    "    \n",
    "    for train_index, test_index in kf.split(X):\n",
    "        X_train, X_test = X[train_index], X[test_index]\n",
    "        y_train, y_test = y[train_index], y[test_index]\n",
    "        clf.fit(X_train,y_train)\n",
    "        y_pred = clf.predict(X_test)\n",
    "        precisions.append(precision_recall_multilabels(y_test, y_pred, labels)[0])\n",
    "        recalls.append(precision_recall_multilabels(y_test, y_pred, labels)[1])\n",
    "        \n",
    "    return precisions, recalls\n"
   ]
  },
  {
   "cell_type": "code",
   "execution_count": 16,
   "id": "afa28e76",
   "metadata": {},
   "outputs": [],
   "source": [
    "X, y = iris.data, iris.target\n",
    "num_classes = len(iris.target_names)\n",
    "classes_labels = sorted(set(iris.target))\n",
    "\n",
    "\n",
    "clfs = {\n",
    "    \"linear\": svm.SVC(kernel=\"linear\", C=1.0),\n",
    "    \"poly2\": svm.SVC(kernel=\"poly\", degree=2),\n",
    "    \"poly3\": svm.SVC(kernel=\"poly\", degree=3),\n",
    "    \"poly4\": svm.SVC(kernel=\"poly\", degree=4),\n",
    "    \"rbf\": svm.SVC(kernel=\"rbf\")\n",
    "}\n",
    "\n",
    "clfs_results = {clf_name: {\"precisions\": None, \"recalls\": None} for clf_name in clfs}"
   ]
  },
  {
   "cell_type": "code",
   "execution_count": 17,
   "id": "6f2761ad",
   "metadata": {
    "scrolled": false
   },
   "outputs": [
    {
     "name": "stdout",
     "output_type": "stream",
     "text": [
      "linear         \n",
      "     precisions\n",
      "                mean: [1.00 1.00 0.96]\n",
      "                 std: [0.00 0.00 0.07]\n",
      "        recalls\n",
      "                mean: [1.00 0.95 1.00]\n",
      "                 std: [0.00 0.11 0.00]\n",
      "poly2          \n",
      "     precisions\n",
      "                mean: [1.00 0.98 0.95]\n",
      "                 std: [0.00 0.06 0.10]\n",
      "        recalls\n",
      "                mean: [1.00 0.96 0.99]\n",
      "                 std: [0.00 0.10 0.04]\n",
      "poly3          \n",
      "     precisions\n",
      "                mean: [1.00 0.99 0.92]\n",
      "                 std: [0.00 0.03 0.15]\n",
      "        recalls\n",
      "                mean: [1.00 0.91 0.97]\n",
      "                 std: [0.00 0.11 0.07]\n",
      "poly4          \n",
      "     precisions\n",
      "                mean: [1.00 0.93 0.92]\n",
      "                 std: [0.00 0.16 0.13]\n",
      "        recalls\n",
      "                mean: [1.00 0.97 0.98]\n",
      "                 std: [0.00 0.07 0.07]\n",
      "rbf            \n",
      "     precisions\n",
      "                mean: [1.00 0.93 0.93]\n",
      "                 std: [0.00 0.08 0.10]\n",
      "        recalls\n",
      "                mean: [1.00 0.90 0.93]\n",
      "                 std: [0.00 0.16 0.12]\n"
     ]
    }
   ],
   "source": [
    "kf = KFold(n_splits=10, shuffle=True)\n",
    "\n",
    "for clf_name, clf in clfs.items():\n",
    "    \n",
    "    \n",
    "    clfs_results[clf_name][\"precisions\"] = (kfold_precisions_recalls(X, y, classes_labels, clf, kf))[0]\n",
    "    clfs_results[clf_name][\"recalls\"] = (kfold_precisions_recalls(X, y, classes_labels, clf, kf))[1]\n",
    "\n",
    "kfold_multimodels_report(clfs_results)"
   ]
  },
  {
   "cell_type": "markdown",
   "id": "99a79552",
   "metadata": {},
   "source": [
    "## 3. Chronic Kidney Disease"
   ]
  },
  {
   "cell_type": "markdown",
   "id": "879e05b5",
   "metadata": {},
   "source": [
    "We clean the data and we replace missing values by the column's average. We save the prepared data in the file \"data.dat\", with the input format required by SVM light."
   ]
  },
  {
   "cell_type": "code",
   "execution_count": 18,
   "id": "28f0ac2c",
   "metadata": {},
   "outputs": [],
   "source": [
    "import os, re\n",
    "f = open(\"chronic_kidney_disease_full.arff\")\n",
    "file2write = open(\"data.dat\",\"w\")\n",
    "\n",
    "attribute = dict()\n",
    "type = dict()\n",
    "attributes = []\n",
    "reading_data = 0\n",
    "results = []\n",
    "somme = [0] * 25\n",
    "howmany = [0] * 25\n",
    "for line in f:\n",
    "    if (re.match(r'''^@attribute[ ]+'([a-z]+)'[ ]+numeric''',line)):\n",
    "        m = re.match(r'''^@attribute[ ]+'([a-z]+)'[ ]+numeric''',line)\n",
    "        name=m.group(1)\n",
    "        attributes.append(name)\n",
    "        attribute[name] = dict()\n",
    "        type[name]='numeric'\n",
    "    elif (re.match(r'''^@attribute '([a-z]+)' {(.+)}''',line)):\n",
    "        m=re.match(r'''^@attribute '([a-z]+)' {(.+)}''',line)\n",
    "        name=m.group(1)\n",
    "        attributes.append(name)\n",
    "        values=re.split(',',m.group(2))\n",
    "        attribute[name] = dict()\n",
    "        type[name]='modal'\n",
    "        i=-1\n",
    "        for x in values:\n",
    "            i += 1\n",
    "            attribute[name][x]=i\n",
    "    elif (reading_data==1):\n",
    "        vals=re.split(',',line.rstrip())\n",
    "        if (len(vals)==25):\n",
    "            results.append(vals)\n",
    "    elif (re.match(r'''^@data''',line)):\n",
    "        reading_data=1\n",
    "for vals in results:\n",
    "    for i in range(25):\n",
    "        if (vals[i]!='?'):\n",
    "            if (type[attributes[i]]=='modal'):\n",
    "                somme[i] += attribute[attributes[i]][vals[i]]\n",
    "            else:\n",
    "                somme[i] += float(vals[i])\n",
    "            howmany[i] += 1\n",
    "newresults = []\n",
    "\n",
    "for vals in results:\n",
    "    newvals = [0] * 25\n",
    "    for i in range(25):\n",
    "        if (vals[i] == '?'):\n",
    "            if (howmany[i] > 0):\n",
    "                newvals[i]=float(somme[i]/howmany[i])\n",
    "            else:\n",
    "                newvals[i]=0.0\n",
    "        elif (type[attributes[i]]=='modal'):\n",
    "            newvals[i]=float(attribute[attributes[i]][vals[i]])\n",
    "        else:\n",
    "            newvals[i]=float(vals[i])\n",
    "    newresults.append(newvals)\n",
    "    if (newvals[24]==0):\n",
    "        result=\"1\"\n",
    "    else:\n",
    "        result=\"-1\"\n",
    "    for i in range(24):\n",
    "        result += \" \"+str(i+1)+\":\"+str(newvals[i])\n",
    "    result+='\\r\\n'\n",
    "\n",
    "    file2write.write(result)\n",
    "\n",
    "file2write.close()"
   ]
  },
  {
   "cell_type": "markdown",
   "id": "9ce74382",
   "metadata": {},
   "source": [
    "We generate ten train and test files (each containing a 10 percent of the total data), which will be used by SVM light."
   ]
  },
  {
   "cell_type": "code",
   "execution_count": 19,
   "id": "1a324a14",
   "metadata": {},
   "outputs": [],
   "source": [
    "import random, os\n",
    "f=open(\"data.dat\",\"r\",newline='\\r\\n')\n",
    "data=[]\n",
    "for line in f:\n",
    "    data.append(line)\n",
    "    random.shuffle(data)\n",
    "    dixieme=int(len(data)/10)+1\n",
    "    for I in range(10):\n",
    "        train_file = open(\"train\"+str(I)+\".dat\",\"w\")\n",
    "        test_file = open(\"test\"+str(I)+\".dat\",\"w\")\n",
    "        for J in range(0,I * dixieme):\n",
    "            if (J < len(data)):\n",
    "                train_file.write(data[J])\n",
    "        for J in range(I * dixieme,(I+1) * dixieme):\n",
    "            if (J < len(data)):\n",
    "                test_file.write(data[J])\n",
    "        for J in range((I+1) * dixieme,len(data)):\n",
    "            if (J < len(data)):\n",
    "                train_file.write(data[J])\n",
    "    train_file.close()\n",
    "    test_file.close()"
   ]
  },
  {
   "cell_type": "markdown",
   "id": "c9dd6dd8",
   "metadata": {},
   "source": [
    "We execute the SVM and we calculate the average runtime, error, precision and recall."
   ]
  },
  {
   "cell_type": "code",
   "execution_count": 21,
   "id": "64168ffc",
   "metadata": {},
   "outputs": [
    {
     "ename": "OSError",
     "evalue": "[Errno 86] Bad CPU type in executable: '/Users/kevinmicha/Documents/IMT Atlantique/UE A - Intro ML/svm_learn'",
     "output_type": "error",
     "traceback": [
      "\u001b[0;31m---------------------------------------------------------------------------\u001b[0m",
      "\u001b[0;31mOSError\u001b[0m                                   Traceback (most recent call last)",
      "\u001b[0;32m/var/folders/4j/fmrt0mln14zcmrb74g6z93bh0000gn/T/ipykernel_5229/1827580994.py\u001b[0m in \u001b[0;36m<module>\u001b[0;34m\u001b[0m\n\u001b[1;32m      6\u001b[0m \u001b[0mrecall\u001b[0m \u001b[0;34m=\u001b[0m \u001b[0;36m0.0\u001b[0m\u001b[0;34m\u001b[0m\u001b[0;34m\u001b[0m\u001b[0m\n\u001b[1;32m      7\u001b[0m \u001b[0;32mfor\u001b[0m \u001b[0mI\u001b[0m \u001b[0;32min\u001b[0m \u001b[0mrange\u001b[0m\u001b[0;34m(\u001b[0m\u001b[0;36m10\u001b[0m\u001b[0;34m)\u001b[0m\u001b[0;34m:\u001b[0m\u001b[0;34m\u001b[0m\u001b[0;34m\u001b[0m\u001b[0m\n\u001b[0;32m----> 8\u001b[0;31m     \u001b[0mp\u001b[0m \u001b[0;34m=\u001b[0m \u001b[0msubprocess\u001b[0m\u001b[0;34m.\u001b[0m\u001b[0mrun\u001b[0m\u001b[0;34m(\u001b[0m\u001b[0;34m[\u001b[0m\u001b[0;34m'/Users/kevinmicha/Documents/IMT Atlantique/UE A - Intro ML/svm_learn'\u001b[0m\u001b[0;34m,\u001b[0m\u001b[0;34m'-z'\u001b[0m\u001b[0;34m,\u001b[0m \u001b[0;34m'c'\u001b[0m\u001b[0;34m,\u001b[0m \u001b[0;34m'-c'\u001b[0m\u001b[0;34m,\u001b[0m \u001b[0;34m'1.0'\u001b[0m\u001b[0;34m,\u001b[0m \u001b[0;34m'-t'\u001b[0m\u001b[0;34m,\u001b[0m \u001b[0;34m'1'\u001b[0m\u001b[0;34m,\u001b[0m \u001b[0;34m'-d'\u001b[0m\u001b[0;34m,\u001b[0m \u001b[0;34m'2'\u001b[0m\u001b[0;34m,\u001b[0m \u001b[0;34m'train'\u001b[0m\u001b[0;34m+\u001b[0m\u001b[0mstr\u001b[0m\u001b[0;34m(\u001b[0m\u001b[0mI\u001b[0m\u001b[0;34m)\u001b[0m\u001b[0;34m+\u001b[0m\u001b[0;34m'.dat'\u001b[0m\u001b[0;34m,\u001b[0m \u001b[0;34m'model'\u001b[0m\u001b[0;34m]\u001b[0m\u001b[0;34m,\u001b[0m \u001b[0mstdout\u001b[0m\u001b[0;34m=\u001b[0m\u001b[0msubprocess\u001b[0m\u001b[0;34m.\u001b[0m\u001b[0mPIPE\u001b[0m\u001b[0;34m)\u001b[0m\u001b[0;34m\u001b[0m\u001b[0;34m\u001b[0m\u001b[0m\n\u001b[0m\u001b[1;32m      9\u001b[0m     \u001b[0;32mfor\u001b[0m \u001b[0mline\u001b[0m \u001b[0;32min\u001b[0m \u001b[0mre\u001b[0m\u001b[0;34m.\u001b[0m\u001b[0msplit\u001b[0m\u001b[0;34m(\u001b[0m\u001b[0;34mr'\\n'\u001b[0m\u001b[0;34m,\u001b[0m\u001b[0mp\u001b[0m\u001b[0;34m.\u001b[0m\u001b[0mstdout\u001b[0m\u001b[0;34m.\u001b[0m\u001b[0mdecode\u001b[0m\u001b[0;34m(\u001b[0m\u001b[0;34m)\u001b[0m\u001b[0;34m)\u001b[0m\u001b[0;34m:\u001b[0m\u001b[0;34m\u001b[0m\u001b[0;34m\u001b[0m\u001b[0m\n\u001b[1;32m     10\u001b[0m         \u001b[0;32mif\u001b[0m \u001b[0;34m(\u001b[0m\u001b[0mre\u001b[0m\u001b[0;34m.\u001b[0m\u001b[0mmatch\u001b[0m\u001b[0;34m(\u001b[0m\u001b[0;34mr'Runtime in cpu-seconds: ([0-9.]+)'\u001b[0m\u001b[0;34m,\u001b[0m\u001b[0mline\u001b[0m\u001b[0;34m)\u001b[0m\u001b[0;34m)\u001b[0m\u001b[0;34m:\u001b[0m\u001b[0;34m\u001b[0m\u001b[0;34m\u001b[0m\u001b[0m\n",
      "\u001b[0;32m~/opt/anaconda3/envs/LAB_3.9/lib/python3.9/subprocess.py\u001b[0m in \u001b[0;36mrun\u001b[0;34m(input, capture_output, timeout, check, *popenargs, **kwargs)\u001b[0m\n\u001b[1;32m    503\u001b[0m         \u001b[0mkwargs\u001b[0m\u001b[0;34m[\u001b[0m\u001b[0;34m'stderr'\u001b[0m\u001b[0;34m]\u001b[0m \u001b[0;34m=\u001b[0m \u001b[0mPIPE\u001b[0m\u001b[0;34m\u001b[0m\u001b[0;34m\u001b[0m\u001b[0m\n\u001b[1;32m    504\u001b[0m \u001b[0;34m\u001b[0m\u001b[0m\n\u001b[0;32m--> 505\u001b[0;31m     \u001b[0;32mwith\u001b[0m \u001b[0mPopen\u001b[0m\u001b[0;34m(\u001b[0m\u001b[0;34m*\u001b[0m\u001b[0mpopenargs\u001b[0m\u001b[0;34m,\u001b[0m \u001b[0;34m**\u001b[0m\u001b[0mkwargs\u001b[0m\u001b[0;34m)\u001b[0m \u001b[0;32mas\u001b[0m \u001b[0mprocess\u001b[0m\u001b[0;34m:\u001b[0m\u001b[0;34m\u001b[0m\u001b[0;34m\u001b[0m\u001b[0m\n\u001b[0m\u001b[1;32m    506\u001b[0m         \u001b[0;32mtry\u001b[0m\u001b[0;34m:\u001b[0m\u001b[0;34m\u001b[0m\u001b[0;34m\u001b[0m\u001b[0m\n\u001b[1;32m    507\u001b[0m             \u001b[0mstdout\u001b[0m\u001b[0;34m,\u001b[0m \u001b[0mstderr\u001b[0m \u001b[0;34m=\u001b[0m \u001b[0mprocess\u001b[0m\u001b[0;34m.\u001b[0m\u001b[0mcommunicate\u001b[0m\u001b[0;34m(\u001b[0m\u001b[0minput\u001b[0m\u001b[0;34m,\u001b[0m \u001b[0mtimeout\u001b[0m\u001b[0;34m=\u001b[0m\u001b[0mtimeout\u001b[0m\u001b[0;34m)\u001b[0m\u001b[0;34m\u001b[0m\u001b[0;34m\u001b[0m\u001b[0m\n",
      "\u001b[0;32m~/opt/anaconda3/envs/LAB_3.9/lib/python3.9/subprocess.py\u001b[0m in \u001b[0;36m__init__\u001b[0;34m(self, args, bufsize, executable, stdin, stdout, stderr, preexec_fn, close_fds, shell, cwd, env, universal_newlines, startupinfo, creationflags, restore_signals, start_new_session, pass_fds, user, group, extra_groups, encoding, errors, text, umask)\u001b[0m\n\u001b[1;32m    949\u001b[0m                             encoding=encoding, errors=errors)\n\u001b[1;32m    950\u001b[0m \u001b[0;34m\u001b[0m\u001b[0m\n\u001b[0;32m--> 951\u001b[0;31m             self._execute_child(args, executable, preexec_fn, close_fds,\n\u001b[0m\u001b[1;32m    952\u001b[0m                                 \u001b[0mpass_fds\u001b[0m\u001b[0;34m,\u001b[0m \u001b[0mcwd\u001b[0m\u001b[0;34m,\u001b[0m \u001b[0menv\u001b[0m\u001b[0;34m,\u001b[0m\u001b[0;34m\u001b[0m\u001b[0;34m\u001b[0m\u001b[0m\n\u001b[1;32m    953\u001b[0m                                 \u001b[0mstartupinfo\u001b[0m\u001b[0;34m,\u001b[0m \u001b[0mcreationflags\u001b[0m\u001b[0;34m,\u001b[0m \u001b[0mshell\u001b[0m\u001b[0;34m,\u001b[0m\u001b[0;34m\u001b[0m\u001b[0;34m\u001b[0m\u001b[0m\n",
      "\u001b[0;32m~/opt/anaconda3/envs/LAB_3.9/lib/python3.9/subprocess.py\u001b[0m in \u001b[0;36m_execute_child\u001b[0;34m(self, args, executable, preexec_fn, close_fds, pass_fds, cwd, env, startupinfo, creationflags, shell, p2cread, p2cwrite, c2pread, c2pwrite, errread, errwrite, restore_signals, gid, gids, uid, umask, start_new_session)\u001b[0m\n\u001b[1;32m   1819\u001b[0m                     \u001b[0;32mif\u001b[0m \u001b[0merrno_num\u001b[0m \u001b[0;34m!=\u001b[0m \u001b[0;36m0\u001b[0m\u001b[0;34m:\u001b[0m\u001b[0;34m\u001b[0m\u001b[0;34m\u001b[0m\u001b[0m\n\u001b[1;32m   1820\u001b[0m                         \u001b[0merr_msg\u001b[0m \u001b[0;34m=\u001b[0m \u001b[0mos\u001b[0m\u001b[0;34m.\u001b[0m\u001b[0mstrerror\u001b[0m\u001b[0;34m(\u001b[0m\u001b[0merrno_num\u001b[0m\u001b[0;34m)\u001b[0m\u001b[0;34m\u001b[0m\u001b[0;34m\u001b[0m\u001b[0m\n\u001b[0;32m-> 1821\u001b[0;31m                     \u001b[0;32mraise\u001b[0m \u001b[0mchild_exception_type\u001b[0m\u001b[0;34m(\u001b[0m\u001b[0merrno_num\u001b[0m\u001b[0;34m,\u001b[0m \u001b[0merr_msg\u001b[0m\u001b[0;34m,\u001b[0m \u001b[0merr_filename\u001b[0m\u001b[0;34m)\u001b[0m\u001b[0;34m\u001b[0m\u001b[0;34m\u001b[0m\u001b[0m\n\u001b[0m\u001b[1;32m   1822\u001b[0m                 \u001b[0;32mraise\u001b[0m \u001b[0mchild_exception_type\u001b[0m\u001b[0;34m(\u001b[0m\u001b[0merr_msg\u001b[0m\u001b[0;34m)\u001b[0m\u001b[0;34m\u001b[0m\u001b[0;34m\u001b[0m\u001b[0m\n\u001b[1;32m   1823\u001b[0m \u001b[0;34m\u001b[0m\u001b[0m\n",
      "\u001b[0;31mOSError\u001b[0m: [Errno 86] Bad CPU type in executable: '/Users/kevinmicha/Documents/IMT Atlantique/UE A - Intro ML/svm_learn'"
     ]
    }
   ],
   "source": [
    "import subprocess, os, re\n",
    "from subprocess import PIPE\n",
    "runtime = 0.0\n",
    "error = 0.0\n",
    "precision = 0.0\n",
    "recall = 0.0\n",
    "for I in range(10):\n",
    "    p = subprocess.run(['/Users/kevinmicha/Documents/IMT Atlantique/UE A - Intro ML/svm_learn','-z', 'c', '-c', '1.0', '-t', '1', '-d', '2', 'train'+str(I)+'.dat', 'model'], stdout=subprocess.PIPE)\n",
    "    for line in re.split(r'\\n',p.stdout.decode()):\n",
    "        if (re.match(r'Runtime in cpu-seconds: ([0-9.]+)',line)):\n",
    "            m=re.match(r'Runtime in cpu-seconds: ([0-9.]+)',line)\n",
    "            runtime += float(m.group(1))\n",
    "        if (re.match(r'XiAlpha-estimate of the error: error<=([0-9.]+)',line)):\n",
    "            m=re.match(r'XiAlpha-estimate of the error: error<=([0-9.]+)',line)\n",
    "            error += float(m.group(1))\n",
    "        if (re.match(r'XiAlpha-estimate of the recall: recall=>([0-9.]+)',line)):\n",
    "            m=re.match(r'XiAlpha-estimate of the recall: recall=>([0-9.]+)',line)\n",
    "            recall += float(m.group(1))\n",
    "        if (re.match(r'XiAlpha-estimate of the precision: precision=>([0-9.]+)',line)):\n",
    "            m=re.match(r'XiAlpha-estimate of the precision: precision=>([0-9.]+)',line)\n",
    "            precision += float(m.group(1))\n",
    "    print(str(I)+\"...\")\n",
    "print(\"runtime = \"+str(runtime/10)+\" cpu seconds\")\n",
    "print(\"error = \"+str(error/10)+\"%\")\n",
    "print(\"precision = \"+str(precision/10)+\"%\")\n",
    "print(\"recall = \"+str(recall/10)+\"%\")"
   ]
  },
  {
   "cell_type": "code",
   "execution_count": null,
   "id": "509e80f9",
   "metadata": {},
   "outputs": [],
   "source": []
  }
 ],
 "metadata": {
  "kernelspec": {
   "display_name": "Python 3 (ipykernel)",
   "language": "python",
   "name": "python3"
  },
  "language_info": {
   "codemirror_mode": {
    "name": "ipython",
    "version": 3
   },
   "file_extension": ".py",
   "mimetype": "text/x-python",
   "name": "python",
   "nbconvert_exporter": "python",
   "pygments_lexer": "ipython3",
   "version": "3.9.7"
  },
  "toc": {
   "base_numbering": 1,
   "nav_menu": {},
   "number_sections": false,
   "sideBar": true,
   "skip_h1_title": false,
   "title_cell": "Table of Contents",
   "title_sidebar": "Contents",
   "toc_cell": false,
   "toc_position": {
    "height": "calc(100% - 180px)",
    "left": "10px",
    "top": "150px",
    "width": "341px"
   },
   "toc_section_display": true,
   "toc_window_display": true
  }
 },
 "nbformat": 4,
 "nbformat_minor": 5
}
